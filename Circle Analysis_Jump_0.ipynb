{
 "cells": [
  {
   "cell_type": "markdown",
   "metadata": {},
   "source": [
    "# Circle analysis w/ 110 steps\n",
    "\n",
    "* TransAccel=0\n",
    "\n",
    "* TransParam=0 "
   ]
  },
  {
   "cell_type": "code",
   "execution_count": 21,
   "metadata": {},
   "outputs": [],
   "source": [
    "import pandas as pd\n",
    "import glob\n",
    "import os \n",
    "import matplotlib.pyplot as plt"
   ]
  },
  {
   "cell_type": "code",
   "execution_count": 86,
   "metadata": {},
   "outputs": [],
   "source": [
    "def GenericFormattingColumns(df):\n",
    "    colNames = df.columns\n",
    "    colNames = [c.replace('-', '_') for c in colNames]\n",
    "    colNames = [c.replace(' ', '') for c in colNames]\n",
    "    colNames = [c.strip() for c in colNames]\n",
    "    df.columns = colNames\n",
    "    print(df.columns)\n",
    "    df.index = range(len(df))\n",
    "    return df"
   ]
  },
  {
   "cell_type": "code",
   "execution_count": 87,
   "metadata": {},
   "outputs": [
    {
     "name": "stdout",
     "output_type": "stream",
     "text": [
      "Group_TrajData\n",
      "Index(['TimeStamp(usec)', 'Action', 'PathNum', 'CurveNum', 'CurveType',\n",
      "       'LengthInCurve', 'Velocity', 'Accel', 'TimeDiff(sec)', 'Unnamed:9'],\n",
      "      dtype='object')\n",
      "X_TrajData\n",
      "Index(['TimeStamp(usec)', 'Position', 'Velocity', 'Accel', 'TimeDiff(sec)',\n",
      "       'Unnamed:5'],\n",
      "      dtype='object')\n",
      "Y_TrajData\n",
      "Index(['TimeStamp(usec)', 'Position', 'Velocity', 'Accel', 'TimeDiff(sec)',\n",
      "       'Unnamed:5'],\n",
      "      dtype='object')\n"
     ]
    }
   ],
   "source": [
    "dfs = list()\n",
    "for file in glob.glob('./Jump7/*_TrajData.txt'):\n",
    "    name = os.path.basename(file)\n",
    "    name = os.path.splitext(name)[0]\n",
    "    print(name)\n",
    "    df=pd.read_csv(file,'|')\n",
    "    GenericFormattingColumns(df)\n",
    "    dfs.append(df)"
   ]
  },
  {
   "cell_type": "markdown",
   "metadata": {},
   "source": [
    "Con todos debo plotear :\n",
    "TimeStamp/Velocity *1000"
   ]
  },
  {
   "cell_type": "code",
   "execution_count": 88,
   "metadata": {},
   "outputs": [],
   "source": [
    "#Pasar las listas a Dataframes nuevamente\n",
    "dfs_Traj=dfs[0]\n",
    "df_Traj= pd.DataFrame(dfs_Traj)\n",
    "\n",
    "df_Traj.loc[:,'TimeStamp(usec)']=df_Traj.loc[:,'TimeStamp(usec)'].div(1000)\n",
    "\n",
    "\n",
    "dfs_X=dfs[1]\n",
    "df_X= pd.DataFrame(dfs_X)\n",
    "df_X.loc[:,'TimeStamp(usec)']=df_X.loc[:,'TimeStamp(usec)'].div(1000)\n",
    "\n",
    "\n",
    "dfs_Y=dfs[2]\n",
    "df_Y= pd.DataFrame(dfs_Y)\n",
    "df_Y.loc[:,'TimeStamp(usec)']=df_Y.loc[:,'TimeStamp(usec)'].div(1000)\n"
   ]
  },
  {
   "cell_type": "code",
   "execution_count": 89,
   "metadata": {},
   "outputs": [
    {
     "data": {
      "text/html": [
       "<div>\n",
       "<style scoped>\n",
       "    .dataframe tbody tr th:only-of-type {\n",
       "        vertical-align: middle;\n",
       "    }\n",
       "\n",
       "    .dataframe tbody tr th {\n",
       "        vertical-align: top;\n",
       "    }\n",
       "\n",
       "    .dataframe thead th {\n",
       "        text-align: right;\n",
       "    }\n",
       "</style>\n",
       "<table border=\"1\" class=\"dataframe\">\n",
       "  <thead>\n",
       "    <tr style=\"text-align: right;\">\n",
       "      <th></th>\n",
       "      <th>Command</th>\n",
       "      <th>CurveType</th>\n",
       "      <th>Velocity</th>\n",
       "    </tr>\n",
       "    <tr>\n",
       "      <th>Action</th>\n",
       "      <th></th>\n",
       "      <th></th>\n",
       "      <th></th>\n",
       "    </tr>\n",
       "  </thead>\n",
       "  <tbody>\n",
       "    <tr>\n",
       "      <th>1</th>\n",
       "      <td>1</td>\n",
       "      <td>------</td>\n",
       "      <td>0.0000</td>\n",
       "    </tr>\n",
       "    <tr>\n",
       "      <th>2</th>\n",
       "      <td>2</td>\n",
       "      <td>------</td>\n",
       "      <td>0.0000</td>\n",
       "    </tr>\n",
       "    <tr>\n",
       "      <th>3</th>\n",
       "      <td>3</td>\n",
       "      <td>------</td>\n",
       "      <td>0.0000</td>\n",
       "    </tr>\n",
       "    <tr>\n",
       "      <th>4</th>\n",
       "      <td>6</td>\n",
       "      <td>------</td>\n",
       "      <td>0.0000</td>\n",
       "    </tr>\n",
       "    <tr>\n",
       "      <th>5</th>\n",
       "      <td>7</td>\n",
       "      <td>LINEAR</td>\n",
       "      <td>10.0000</td>\n",
       "    </tr>\n",
       "    <tr>\n",
       "      <th>6</th>\n",
       "      <td>8</td>\n",
       "      <td>------</td>\n",
       "      <td>0.0000</td>\n",
       "    </tr>\n",
       "    <tr>\n",
       "      <th>7</th>\n",
       "      <td>16</td>\n",
       "      <td>LINEAR</td>\n",
       "      <td>200.0000</td>\n",
       "    </tr>\n",
       "    <tr>\n",
       "      <th>8</th>\n",
       "      <td>17</td>\n",
       "      <td>CORNER</td>\n",
       "      <td>12.3938</td>\n",
       "    </tr>\n",
       "    <tr>\n",
       "      <th>9</th>\n",
       "      <td>17</td>\n",
       "      <td>LINEAR</td>\n",
       "      <td>200.0000</td>\n",
       "    </tr>\n",
       "    <tr>\n",
       "      <th>10</th>\n",
       "      <td>18</td>\n",
       "      <td>CORNER</td>\n",
       "      <td>132.0560</td>\n",
       "    </tr>\n",
       "    <tr>\n",
       "      <th>11</th>\n",
       "      <td>18</td>\n",
       "      <td>LINEAR</td>\n",
       "      <td>200.0000</td>\n",
       "    </tr>\n",
       "    <tr>\n",
       "      <th>12</th>\n",
       "      <td>19</td>\n",
       "      <td>CORNER</td>\n",
       "      <td>131.2180</td>\n",
       "    </tr>\n",
       "    <tr>\n",
       "      <th>13</th>\n",
       "      <td>19</td>\n",
       "      <td>LINEAR</td>\n",
       "      <td>200.0000</td>\n",
       "    </tr>\n",
       "    <tr>\n",
       "      <th>14</th>\n",
       "      <td>20</td>\n",
       "      <td>CORNER</td>\n",
       "      <td>130.2470</td>\n",
       "    </tr>\n",
       "    <tr>\n",
       "      <th>15</th>\n",
       "      <td>20</td>\n",
       "      <td>LINEAR</td>\n",
       "      <td>200.0000</td>\n",
       "    </tr>\n",
       "  </tbody>\n",
       "</table>\n",
       "</div>"
      ],
      "text/plain": [
       "          Command   CurveType    Velocity \n",
       "Action                                    \n",
       "1                1      ------      0.0000\n",
       "2                2      ------      0.0000\n",
       "3                3      ------      0.0000\n",
       "4                6      ------      0.0000\n",
       "5                7      LINEAR     10.0000\n",
       "6                8      ------      0.0000\n",
       "7               16      LINEAR    200.0000\n",
       "8               17      CORNER     12.3938\n",
       "9               17      LINEAR    200.0000\n",
       "10              18      CORNER    132.0560\n",
       "11              18      LINEAR    200.0000\n",
       "12              19      CORNER    131.2180\n",
       "13              19      LINEAR    200.0000\n",
       "14              20      CORNER    130.2470\n",
       "15              20      LINEAR    200.0000"
      ]
     },
     "execution_count": 89,
     "metadata": {},
     "output_type": "execute_result"
    }
   ],
   "source": [
    "df=pd.read_csv('./Tool_Circle_xdb/Circle_110Sections_T0.nc.Tool.xdb',delimiter='|', index_col=0,usecols=[0,1,6,12])\n",
    "df.head(15)\n"
   ]
  },
  {
   "cell_type": "code",
   "execution_count": 91,
   "metadata": {},
   "outputs": [
    {
     "data": {
      "image/png": "[encoded data removed]",
      "text/plain": [
       "<Figure size 864x432 with 1 Axes>"
      ]
     },
     "metadata": {
      "needs_background": "light"
     },
     "output_type": "display_data"
    }
   ],
   "source": [
    "fig=plt.figure(figsize=[12,6])\n",
    "axes1=fig.add_subplot(1,1,1)\n",
    "#axes2=fig.add_subplot(1,3,2)\n",
    "#axes3=fig.add_subplot(1,3,3)\n",
    "\n",
    "Total = max(df_Traj['TimeStamp(usec)']) - min(df_Traj['TimeStamp(usec)'])\n",
    "x_min = min(df_Traj['TimeStamp(usec)']) + round(0.35*Total)\n",
    "x_max = max(df_Traj['TimeStamp(usec)']) - round(0.27*Total)\n",
    "x_limits = [x_min, x_max]\n",
    "axes1.set_title('Group_TrajData')\n",
    "df_Traj.plot(ax=axes1 ,x='TimeStamp(usec)',y='Velocity',xlim=x_limits,xlabel='TimeStamp(ms)',ylabel='Velocity(mm/s)')\n",
    "axes1.text(0.73,1.01,f'Corner= {round(df.iloc[11,2],5)} (mm/s)',fontsize=13,transform=axes1.transAxes)\n",
    "\n",
    "#axes2.set_title('X')\n",
    "#df_X.plot(ax=axes2 ,x='TimeStamp(usec)',y='Velocity',xlim=x_limits,xlabel='TimeStamp(ms)',ylabel='Velocity(mm/s)')\n",
    "\n",
    "\n",
    "#axes3.set_title('Y')\n",
    "#df_Y.plot(ax=axes3 ,x='TimeStamp(usec)',y='Velocity',xlim=x_limits,xlabel='TimeStamp(ms)',ylabel='Velocity(mm/s)')\n",
    "\n",
    "plt.savefig('Circle_Steps_110_Corner.png')"
   ]
  },
  {
   "cell_type": "code",
   "execution_count": null,
   "metadata": {},
   "outputs": [],
   "source": []
  }
 ],
 "metadata": {
  "kernelspec": {
   "display_name": "Python 3",
   "language": "python",
   "name": "python3"
  },
  "language_info": {
   "codemirror_mode": {
    "name": "ipython",
    "version": 3
   },
   "file_extension": ".py",
   "mimetype": "text/x-python",
   "name": "python",
   "nbconvert_exporter": "python",
   "pygments_lexer": "ipython3",
   "version": "3.8.5"
  }
 },
 "nbformat": 4,
 "nbformat_minor": 4
}
